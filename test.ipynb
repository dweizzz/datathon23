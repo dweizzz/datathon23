{
 "cells": [
  {
   "cell_type": "code",
   "execution_count": 19,
   "metadata": {},
   "outputs": [],
   "source": [
    "import numpy as np\n",
    "import matplotlib as plot\n",
    "import pandas as pd\n",
    "import torch\n",
    "import torch.nn as nn\n",
    "import torch.optim as optim\n",
    "from sklearn.model_selection import train_test_split\n",
    "from sklearn.linear_model import LinearRegression\n",
    "from sklearn.metrics import mean_squared_error, r2_score"
   ]
  },
  {
   "cell_type": "code",
   "execution_count": 90,
   "metadata": {},
   "outputs": [],
   "source": [
    "#preprocessing\n",
    "df = pd.read_csv('data\\Immunisations.csv')\n",
    "to_drop = ['VAR','UNIT','Measure','COU','YEA', 'Flag Codes','Flags']\n",
    "df.drop(to_drop, inplace=True, axis=1)\n",
    "\n",
    "#creating a separate dataframe with just the doctors  \n",
    "df_doc = pd.read_csv('data\\Physicians.csv')\n",
    "to_drop = ['VAR','UNIT','Measure','COU','YEA', 'Flag Codes','Flags']\n",
    "df_doc.drop(to_drop, inplace=True, axis=1)\n",
    "df_doc = df_doc[df_doc['Variable'].str.contains('Practising physicians')]\n",
    "merged = pd.merge(left=df, right=df_doc, how='right', left_on=['Year','Country'], right_on=['Year','Country'])\n",
    "merged = merged.rename(columns={'Value_x': 'percent_immun', 'Value_y': 'num_physicians'})\n",
    "merged = merged.dropna()\n",
    "merged['num_physicians_sqr'] = merged['num_physicians'] * merged['num_physicians']\n",
    "column = 'num_physicians'\n",
    "merged[column] = (merged[column] - merged[column].mean()) / merged[column].std()\n",
    "\n",
    "#split data\n",
    "train, test = train_test_split(merged, test_size=0.2)\n",
    "x_train = train.loc[:, ['num_physicians', 'num_physicians_sqr']]\n",
    "y_train = train[\"percent_immun\"].to_frame(name = \"y_train\")\n",
    "x_test = test.loc[:, ['num_physicians', 'num_physicians_sqr']]\n",
    "y_test = test[\"percent_immun\"].to_frame(name = \"y_test\")\n"
   ]
  },
  {
   "cell_type": "code",
   "execution_count": 95,
   "metadata": {},
   "outputs": [],
   "source": [
    "model = LinearRegression()\n",
    "model.fit(x_train, y_train)\n",
    "\n",
    "y_pred = model.predict(x_test)\n",
    "\n",
    "mse = mean_squared_error(y_test,y_pred)\n",
    "rmse = np.sqrt(mse)\n",
    "r2 = r2_score(y_test,y_pred)"
   ]
  },
  {
   "cell_type": "code",
   "execution_count": 96,
   "metadata": {},
   "outputs": [
    {
     "data": {
      "text/plain": [
       "0.006658360196676538"
      ]
     },
     "execution_count": 96,
     "metadata": {},
     "output_type": "execute_result"
    }
   ],
   "source": [
    "r2"
   ]
  }
 ],
 "metadata": {
  "kernelspec": {
   "display_name": "base",
   "language": "python",
   "name": "python3"
  },
  "language_info": {
   "codemirror_mode": {
    "name": "ipython",
    "version": 3
   },
   "file_extension": ".py",
   "mimetype": "text/x-python",
   "name": "python",
   "nbconvert_exporter": "python",
   "pygments_lexer": "ipython3",
   "version": "3.9.12"
  },
  "orig_nbformat": 4
 },
 "nbformat": 4,
 "nbformat_minor": 2
}
