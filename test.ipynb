{
 "cells": [
  {
   "cell_type": "code",
   "execution_count": 1,
   "metadata": {},
   "outputs": [],
   "source": [
    "import numpy as np\n",
    "import matplotlib as plot\n",
    "import pandas as pd\n",
    "import torch\n",
    "import torch.nn as nn\n",
    "import torch.optim as optim"
   ]
  },
  {
   "cell_type": "code",
   "execution_count": 10,
   "metadata": {},
   "outputs": [
    {
     "ename": "AttributeError",
     "evalue": "'Subset' object has no attribute 'head'",
     "output_type": "error",
     "traceback": [
      "\u001b[1;31m---------------------------------------------------------------------------\u001b[0m",
      "\u001b[1;31mAttributeError\u001b[0m                            Traceback (most recent call last)",
      "\u001b[1;32mc:\\Users\\dwzsp\\CDS\\datathon\\test.ipynb Cell 2\u001b[0m in \u001b[0;36m<cell line: 20>\u001b[1;34m()\u001b[0m\n\u001b[0;32m     <a href='vscode-notebook-cell:/c%3A/Users/dwzsp/CDS/datathon/test.ipynb#W1sZmlsZQ%3D%3D?line=16'>17</a>\u001b[0m test_size \u001b[39m=\u001b[39m \u001b[39mlen\u001b[39m(merged) \u001b[39m-\u001b[39m train_size\n\u001b[0;32m     <a href='vscode-notebook-cell:/c%3A/Users/dwzsp/CDS/datathon/test.ipynb#W1sZmlsZQ%3D%3D?line=17'>18</a>\u001b[0m train_dataset, test_dataset \u001b[39m=\u001b[39m torch\u001b[39m.\u001b[39mutils\u001b[39m.\u001b[39mdata\u001b[39m.\u001b[39mrandom_split(merged, [train_size, test_size])\n\u001b[1;32m---> <a href='vscode-notebook-cell:/c%3A/Users/dwzsp/CDS/datathon/test.ipynb#W1sZmlsZQ%3D%3D?line=19'>20</a>\u001b[0m train_dataset\u001b[39m.\u001b[39;49mhead()\n\u001b[0;32m     <a href='vscode-notebook-cell:/c%3A/Users/dwzsp/CDS/datathon/test.ipynb#W1sZmlsZQ%3D%3D?line=20'>21</a>\u001b[0m test_dataset\u001b[39m.\u001b[39mhead()\n",
      "\u001b[1;31mAttributeError\u001b[0m: 'Subset' object has no attribute 'head'"
     ]
    }
   ],
   "source": [
    "#preprocessing\n",
    "df = pd.read_csv('data\\Immunisations.csv')\n",
    "to_drop = ['VAR','UNIT','Measure','COU','YEA', 'Flag Codes','Flags']\n",
    "df.drop(to_drop, inplace=True, axis=1)\n",
    "\n",
    "#creating a separate dataframe with just the doctors  \n",
    "df_doc = pd.read_csv('data\\Physicians.csv')\n",
    "to_drop = ['VAR','UNIT','Measure','COU','YEA', 'Flag Codes','Flags']\n",
    "df_doc.drop(to_drop, inplace=True, axis=1)\n",
    "df_doc = df_doc[df_doc['Variable'].str.contains('Practising physicians')]\n",
    "merged = pd.merge(left=df, right=df_doc, how='right', left_on=['Year','Country'], right_on=['Year','Country'])\n",
    "merged = merged.rename(columns={'Value_x': 'percent_immun', 'Value_y': 'num_physicians'})\n",
    "\n",
    "#split data\n",
    "train_size = int(0.8 * len(merged))\n",
    "test_size = len(merged) - train_size\n",
    "train_dataset, test_dataset = torch.utils.data.random_split(merged, [train_size, test_size])\n",
    "\n",
    "train_dataset.head()\n",
    "test_dataset.head()"
   ]
  }
 ],
 "metadata": {
  "kernelspec": {
   "display_name": "base",
   "language": "python",
   "name": "python3"
  },
  "language_info": {
   "codemirror_mode": {
    "name": "ipython",
    "version": 3
   },
   "file_extension": ".py",
   "mimetype": "text/x-python",
   "name": "python",
   "nbconvert_exporter": "python",
   "pygments_lexer": "ipython3",
   "version": "3.9.12"
  },
  "orig_nbformat": 4
 },
 "nbformat": 4,
 "nbformat_minor": 2
}
