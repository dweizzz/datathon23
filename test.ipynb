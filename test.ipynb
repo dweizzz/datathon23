{
 "cells": [
  {
   "cell_type": "code",
   "execution_count": 1,
   "metadata": {},
   "outputs": [],
   "source": [
    "import numpy as np\n",
    "import matplotlib as plot\n",
    "import pandas as pd\n",
    "import torch\n",
    "import torch.nn as nn\n",
    "import torch.optim as optim"
   ]
  },
  {
   "cell_type": "code",
   "execution_count": 5,
   "metadata": {},
   "outputs": [],
   "source": [
    "df = pd.read_csv('data\\Immunisations.csv')\n",
    "to_drop = ['VAR','UNIT','Measure','COU','YEA', 'Flag Codes','Flags']\n",
    "df.drop(to_drop, inplace=True, axis=1)\n",
    "#creating a separate dataframe with just the doctors  \n",
    "df_doc = pd.read_csv('data\\Physicians.csv')\n",
    "to_drop = ['VAR','UNIT','Measure','COU','YEA', 'Flag Codes','Flags']\n",
    "df_doc.drop(to_drop, inplace=True, axis=1)\n",
    "df_doc = df_doc[df_doc['Variable'].str.contains('Practising physicians')]\n",
    "merged = pd.merge(left=df, right=df_doc, how='right', left_on=['Year','Country'], right_on=['Year','Country'])\n",
    "merged = merged.rename(columns={'Value_x': 'percent_immun', 'Value_y': 'num_physicians'})"
   ]
  }
 ],
 "metadata": {
  "kernelspec": {
   "display_name": "base",
   "language": "python",
   "name": "python3"
  },
  "language_info": {
   "codemirror_mode": {
    "name": "ipython",
    "version": 3
   },
   "file_extension": ".py",
   "mimetype": "text/x-python",
   "name": "python",
   "nbconvert_exporter": "python",
   "pygments_lexer": "ipython3",
   "version": "3.9.12"
  },
  "orig_nbformat": 4
 },
 "nbformat": 4,
 "nbformat_minor": 2
}
